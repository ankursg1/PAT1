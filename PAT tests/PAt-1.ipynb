{
 "cells": [
  {
   "cell_type": "code",
   "execution_count": 167,
   "metadata": {},
   "outputs": [],
   "source": [
    "import pandas as pd\n",
    "import numpy as np\n",
    "import seaborn as sns\n",
    "import matplotlib.pyplot as plt\n",
    "%matplotlib inline"
   ]
  },
  {
   "cell_type": "code",
   "execution_count": 168,
   "metadata": {},
   "outputs": [],
   "source": [
    "pd.set_option('display.max_columns', None)"
   ]
  },
  {
   "cell_type": "code",
   "execution_count": 169,
   "metadata": {},
   "outputs": [
    {
     "data": {
      "text/html": [
       "<div>\n",
       "<style scoped>\n",
       "    .dataframe tbody tr th:only-of-type {\n",
       "        vertical-align: middle;\n",
       "    }\n",
       "\n",
       "    .dataframe tbody tr th {\n",
       "        vertical-align: top;\n",
       "    }\n",
       "\n",
       "    .dataframe thead th {\n",
       "        text-align: right;\n",
       "    }\n",
       "</style>\n",
       "<table border=\"1\" class=\"dataframe\">\n",
       "  <thead>\n",
       "    <tr style=\"text-align: right;\">\n",
       "      <th></th>\n",
       "      <th>Country</th>\n",
       "      <th>League</th>\n",
       "      <th>Club</th>\n",
       "      <th>Player Names</th>\n",
       "      <th>Matches_Played</th>\n",
       "      <th>Substitution</th>\n",
       "      <th>Mins</th>\n",
       "      <th>Goals</th>\n",
       "      <th>xG</th>\n",
       "      <th>xG Per Avg Match</th>\n",
       "      <th>Shots</th>\n",
       "      <th>OnTarget</th>\n",
       "      <th>Shots Per Avg Match</th>\n",
       "      <th>On Target Per Avg Match</th>\n",
       "      <th>Year</th>\n",
       "    </tr>\n",
       "  </thead>\n",
       "  <tbody>\n",
       "    <tr>\n",
       "      <th>0</th>\n",
       "      <td>Spain</td>\n",
       "      <td>La Liga</td>\n",
       "      <td>(BET)</td>\n",
       "      <td>Juanmi Callejon</td>\n",
       "      <td>19</td>\n",
       "      <td>16</td>\n",
       "      <td>1849</td>\n",
       "      <td>11</td>\n",
       "      <td>6.62</td>\n",
       "      <td>0.34</td>\n",
       "      <td>48</td>\n",
       "      <td>20</td>\n",
       "      <td>2.47</td>\n",
       "      <td>1.03</td>\n",
       "      <td>2016</td>\n",
       "    </tr>\n",
       "    <tr>\n",
       "      <th>1</th>\n",
       "      <td>Spain</td>\n",
       "      <td>La Liga</td>\n",
       "      <td>(BAR)</td>\n",
       "      <td>Antoine Griezmann</td>\n",
       "      <td>36</td>\n",
       "      <td>0</td>\n",
       "      <td>3129</td>\n",
       "      <td>16</td>\n",
       "      <td>11.86</td>\n",
       "      <td>0.36</td>\n",
       "      <td>88</td>\n",
       "      <td>41</td>\n",
       "      <td>2.67</td>\n",
       "      <td>1.24</td>\n",
       "      <td>2016</td>\n",
       "    </tr>\n",
       "    <tr>\n",
       "      <th>2</th>\n",
       "      <td>Spain</td>\n",
       "      <td>La Liga</td>\n",
       "      <td>(ATL)</td>\n",
       "      <td>Luis Suarez</td>\n",
       "      <td>34</td>\n",
       "      <td>1</td>\n",
       "      <td>2940</td>\n",
       "      <td>28</td>\n",
       "      <td>23.21</td>\n",
       "      <td>0.75</td>\n",
       "      <td>120</td>\n",
       "      <td>57</td>\n",
       "      <td>3.88</td>\n",
       "      <td>1.84</td>\n",
       "      <td>2016</td>\n",
       "    </tr>\n",
       "    <tr>\n",
       "      <th>3</th>\n",
       "      <td>Spain</td>\n",
       "      <td>La Liga</td>\n",
       "      <td>(CAR)</td>\n",
       "      <td>Ruben Castro</td>\n",
       "      <td>32</td>\n",
       "      <td>3</td>\n",
       "      <td>2842</td>\n",
       "      <td>13</td>\n",
       "      <td>14.06</td>\n",
       "      <td>0.47</td>\n",
       "      <td>117</td>\n",
       "      <td>42</td>\n",
       "      <td>3.91</td>\n",
       "      <td>1.40</td>\n",
       "      <td>2016</td>\n",
       "    </tr>\n",
       "    <tr>\n",
       "      <th>4</th>\n",
       "      <td>Spain</td>\n",
       "      <td>La Liga</td>\n",
       "      <td>(VAL)</td>\n",
       "      <td>Kevin Gameiro</td>\n",
       "      <td>21</td>\n",
       "      <td>10</td>\n",
       "      <td>1745</td>\n",
       "      <td>13</td>\n",
       "      <td>10.65</td>\n",
       "      <td>0.58</td>\n",
       "      <td>50</td>\n",
       "      <td>23</td>\n",
       "      <td>2.72</td>\n",
       "      <td>1.25</td>\n",
       "      <td>2016</td>\n",
       "    </tr>\n",
       "    <tr>\n",
       "      <th>5</th>\n",
       "      <td>Spain</td>\n",
       "      <td>La Liga</td>\n",
       "      <td>(JUV)</td>\n",
       "      <td>Cristiano Ronaldo</td>\n",
       "      <td>29</td>\n",
       "      <td>0</td>\n",
       "      <td>2634</td>\n",
       "      <td>42</td>\n",
       "      <td>24.68</td>\n",
       "      <td>0.89</td>\n",
       "      <td>162</td>\n",
       "      <td>60</td>\n",
       "      <td>5.84</td>\n",
       "      <td>2.16</td>\n",
       "      <td>2016</td>\n",
       "    </tr>\n",
       "    <tr>\n",
       "      <th>6</th>\n",
       "      <td>Spain</td>\n",
       "      <td>La Liga</td>\n",
       "      <td>(RMA)</td>\n",
       "      <td>Karim Benzema</td>\n",
       "      <td>23</td>\n",
       "      <td>6</td>\n",
       "      <td>1967</td>\n",
       "      <td>11</td>\n",
       "      <td>13.25</td>\n",
       "      <td>0.64</td>\n",
       "      <td>69</td>\n",
       "      <td>34</td>\n",
       "      <td>3.33</td>\n",
       "      <td>1.64</td>\n",
       "      <td>2016</td>\n",
       "    </tr>\n",
       "    <tr>\n",
       "      <th>7</th>\n",
       "      <td>Spain</td>\n",
       "      <td>La Liga</td>\n",
       "      <td>(PSG)</td>\n",
       "      <td>Neymar</td>\n",
       "      <td>30</td>\n",
       "      <td>0</td>\n",
       "      <td>2694</td>\n",
       "      <td>13</td>\n",
       "      <td>13.33</td>\n",
       "      <td>0.47</td>\n",
       "      <td>105</td>\n",
       "      <td>42</td>\n",
       "      <td>3.70</td>\n",
       "      <td>1.48</td>\n",
       "      <td>2016</td>\n",
       "    </tr>\n",
       "    <tr>\n",
       "      <th>8</th>\n",
       "      <td>Spain</td>\n",
       "      <td>La Liga</td>\n",
       "      <td>(CEL)</td>\n",
       "      <td>Iago Aspas</td>\n",
       "      <td>25</td>\n",
       "      <td>7</td>\n",
       "      <td>2354</td>\n",
       "      <td>19</td>\n",
       "      <td>13.88</td>\n",
       "      <td>0.56</td>\n",
       "      <td>78</td>\n",
       "      <td>37</td>\n",
       "      <td>3.15</td>\n",
       "      <td>1.49</td>\n",
       "      <td>2016</td>\n",
       "    </tr>\n",
       "    <tr>\n",
       "      <th>9</th>\n",
       "      <td>Spain</td>\n",
       "      <td>La Liga</td>\n",
       "      <td>(EIB)</td>\n",
       "      <td>Sergi Enrich</td>\n",
       "      <td>31</td>\n",
       "      <td>7</td>\n",
       "      <td>2904</td>\n",
       "      <td>11</td>\n",
       "      <td>8.25</td>\n",
       "      <td>0.27</td>\n",
       "      <td>64</td>\n",
       "      <td>26</td>\n",
       "      <td>2.09</td>\n",
       "      <td>0.85</td>\n",
       "      <td>2016</td>\n",
       "    </tr>\n",
       "  </tbody>\n",
       "</table>\n",
       "</div>"
      ],
      "text/plain": [
       "  Country   League   Club       Player Names  Matches_Played  Substitution   \\\n",
       "0   Spain  La Liga  (BET)    Juanmi Callejon              19             16   \n",
       "1   Spain  La Liga  (BAR)  Antoine Griezmann              36              0   \n",
       "2   Spain  La Liga  (ATL)        Luis Suarez              34              1   \n",
       "3   Spain  La Liga  (CAR)       Ruben Castro              32              3   \n",
       "4   Spain  La Liga  (VAL)      Kevin Gameiro              21             10   \n",
       "5   Spain  La Liga  (JUV)  Cristiano Ronaldo              29              0   \n",
       "6   Spain  La Liga  (RMA)      Karim Benzema              23              6   \n",
       "7   Spain  La Liga  (PSG)            Neymar               30              0   \n",
       "8   Spain  La Liga  (CEL)         Iago Aspas              25              7   \n",
       "9   Spain  La Liga  (EIB)       Sergi Enrich              31              7   \n",
       "\n",
       "   Mins  Goals     xG  xG Per Avg Match  Shots  OnTarget  Shots Per Avg Match  \\\n",
       "0  1849     11   6.62              0.34     48        20                 2.47   \n",
       "1  3129     16  11.86              0.36     88        41                 2.67   \n",
       "2  2940     28  23.21              0.75    120        57                 3.88   \n",
       "3  2842     13  14.06              0.47    117        42                 3.91   \n",
       "4  1745     13  10.65              0.58     50        23                 2.72   \n",
       "5  2634     42  24.68              0.89    162        60                 5.84   \n",
       "6  1967     11  13.25              0.64     69        34                 3.33   \n",
       "7  2694     13  13.33              0.47    105        42                 3.70   \n",
       "8  2354     19  13.88              0.56     78        37                 3.15   \n",
       "9  2904     11   8.25              0.27     64        26                 2.09   \n",
       "\n",
       "   On Target Per Avg Match  Year  \n",
       "0                     1.03  2016  \n",
       "1                     1.24  2016  \n",
       "2                     1.84  2016  \n",
       "3                     1.40  2016  \n",
       "4                     1.25  2016  \n",
       "5                     2.16  2016  \n",
       "6                     1.64  2016  \n",
       "7                     1.48  2016  \n",
       "8                     1.49  2016  \n",
       "9                     0.85  2016  "
      ]
     },
     "execution_count": 169,
     "metadata": {},
     "output_type": "execute_result"
    }
   ],
   "source": [
    "df=pd.read_csv('soccer.csv')\n",
    "df.head(10)"
   ]
  },
  {
   "cell_type": "markdown",
   "metadata": {},
   "source": [
    "# Q1: What is the total number of goals scored in the entire dataset?"
   ]
  },
  {
   "cell_type": "code",
   "execution_count": 170,
   "metadata": {},
   "outputs": [
    {
     "data": {
      "text/plain": [
       "7795"
      ]
     },
     "execution_count": 170,
     "metadata": {},
     "output_type": "execute_result"
    }
   ],
   "source": [
    "# Total number of goals scored\n",
    "df['Goals'].sum()"
   ]
  },
  {
   "cell_type": "markdown",
   "metadata": {},
   "source": [
    "# Q2: Which player has scored the most goals as a substitution"
   ]
  },
  {
   "cell_type": "code",
   "execution_count": 171,
   "metadata": {},
   "outputs": [
    {
     "data": {
      "text/plain": [
       "Country                                USA\n",
       "League                             Serie A\n",
       "Club                                   Tim\n",
       "Player Names               Ãngel Di Maria\n",
       "Matches_Played                          37\n",
       "Substitution                            26\n",
       "Mins                                  3931\n",
       "Goals                                   37\n",
       "xG                                   32.54\n",
       "xG Per Avg Match                      1.27\n",
       "Shots                                  197\n",
       "OnTarget                               102\n",
       "Shots Per Avg Match                    7.2\n",
       "On Target Per Avg Match               3.63\n",
       "Year                                  2020\n",
       "dtype: object"
      ]
     },
     "execution_count": 171,
     "metadata": {},
     "output_type": "execute_result"
    }
   ],
   "source": [
    "# we have filtered the  players with no substitution\n",
    "# so angel Di Maria is the Player who has scored the maximum goals in 26 substitution\n",
    "df[df['Substitution ']>0].max()"
   ]
  },
  {
   "cell_type": "code",
   "execution_count": null,
   "metadata": {},
   "outputs": [],
   "source": []
  },
  {
   "cell_type": "markdown",
   "metadata": {},
   "source": [
    "# Q3: Find the top 5 players with the most number of goals scored. Also find the total number of goals scored by them"
   ]
  },
  {
   "cell_type": "code",
   "execution_count": 172,
   "metadata": {},
   "outputs": [
    {
     "data": {
      "text/html": [
       "<div>\n",
       "<style scoped>\n",
       "    .dataframe tbody tr th:only-of-type {\n",
       "        vertical-align: middle;\n",
       "    }\n",
       "\n",
       "    .dataframe tbody tr th {\n",
       "        vertical-align: top;\n",
       "    }\n",
       "\n",
       "    .dataframe thead th {\n",
       "        text-align: right;\n",
       "    }\n",
       "</style>\n",
       "<table border=\"1\" class=\"dataframe\">\n",
       "  <thead>\n",
       "    <tr style=\"text-align: right;\">\n",
       "      <th></th>\n",
       "      <th>Country</th>\n",
       "      <th>League</th>\n",
       "      <th>Club</th>\n",
       "      <th>Player Names</th>\n",
       "      <th>Matches_Played</th>\n",
       "      <th>Substitution</th>\n",
       "      <th>Mins</th>\n",
       "      <th>Goals</th>\n",
       "      <th>xG</th>\n",
       "      <th>xG Per Avg Match</th>\n",
       "      <th>Shots</th>\n",
       "      <th>OnTarget</th>\n",
       "      <th>Shots Per Avg Match</th>\n",
       "      <th>On Target Per Avg Match</th>\n",
       "      <th>Year</th>\n",
       "    </tr>\n",
       "  </thead>\n",
       "  <tbody>\n",
       "    <tr>\n",
       "      <th>5</th>\n",
       "      <td>Spain</td>\n",
       "      <td>La Liga</td>\n",
       "      <td>(JUV)</td>\n",
       "      <td>Cristiano Ronaldo</td>\n",
       "      <td>29</td>\n",
       "      <td>0</td>\n",
       "      <td>2634</td>\n",
       "      <td>42</td>\n",
       "      <td>24.68</td>\n",
       "      <td>0.89</td>\n",
       "      <td>162</td>\n",
       "      <td>60</td>\n",
       "      <td>5.84</td>\n",
       "      <td>2.16</td>\n",
       "      <td>2016</td>\n",
       "    </tr>\n",
       "    <tr>\n",
       "      <th>12</th>\n",
       "      <td>Spain</td>\n",
       "      <td>La Liga</td>\n",
       "      <td>(BAR)</td>\n",
       "      <td>Lionel Messi</td>\n",
       "      <td>32</td>\n",
       "      <td>2</td>\n",
       "      <td>2910</td>\n",
       "      <td>37</td>\n",
       "      <td>26.65</td>\n",
       "      <td>0.87</td>\n",
       "      <td>179</td>\n",
       "      <td>76</td>\n",
       "      <td>5.84</td>\n",
       "      <td>2.48</td>\n",
       "      <td>2016</td>\n",
       "    </tr>\n",
       "    <tr>\n",
       "      <th>195</th>\n",
       "      <td>Spain</td>\n",
       "      <td>La Liga</td>\n",
       "      <td>(BAR)</td>\n",
       "      <td>Lionel Messi</td>\n",
       "      <td>29</td>\n",
       "      <td>5</td>\n",
       "      <td>2849</td>\n",
       "      <td>36</td>\n",
       "      <td>25.49</td>\n",
       "      <td>0.85</td>\n",
       "      <td>170</td>\n",
       "      <td>87</td>\n",
       "      <td>5.67</td>\n",
       "      <td>2.90</td>\n",
       "      <td>2018</td>\n",
       "    </tr>\n",
       "    <tr>\n",
       "      <th>317</th>\n",
       "      <td>USA</td>\n",
       "      <td>MLS</td>\n",
       "      <td>(LAF)</td>\n",
       "      <td>Carlos Vela</td>\n",
       "      <td>33</td>\n",
       "      <td>0</td>\n",
       "      <td>3128</td>\n",
       "      <td>36</td>\n",
       "      <td>25.35</td>\n",
       "      <td>0.77</td>\n",
       "      <td>167</td>\n",
       "      <td>75</td>\n",
       "      <td>5.07</td>\n",
       "      <td>2.28</td>\n",
       "      <td>2019</td>\n",
       "    </tr>\n",
       "    <tr>\n",
       "      <th>391</th>\n",
       "      <td>Italy</td>\n",
       "      <td>Serie A</td>\n",
       "      <td>(LAZ)</td>\n",
       "      <td>Ciro Immobile</td>\n",
       "      <td>36</td>\n",
       "      <td>1</td>\n",
       "      <td>3371</td>\n",
       "      <td>36</td>\n",
       "      <td>26.61</td>\n",
       "      <td>0.75</td>\n",
       "      <td>142</td>\n",
       "      <td>71</td>\n",
       "      <td>4.00</td>\n",
       "      <td>2.00</td>\n",
       "      <td>2019</td>\n",
       "    </tr>\n",
       "  </tbody>\n",
       "</table>\n",
       "</div>"
      ],
      "text/plain": [
       "    Country   League   Club       Player Names  Matches_Played  Substitution   \\\n",
       "5     Spain  La Liga  (JUV)  Cristiano Ronaldo              29              0   \n",
       "12    Spain  La Liga  (BAR)       Lionel Messi              32              2   \n",
       "195   Spain  La Liga  (BAR)       Lionel Messi              29              5   \n",
       "317     USA      MLS  (LAF)        Carlos Vela              33              0   \n",
       "391   Italy  Serie A  (LAZ)      Ciro Immobile              36              1   \n",
       "\n",
       "     Mins  Goals     xG  xG Per Avg Match  Shots  OnTarget  \\\n",
       "5    2634     42  24.68              0.89    162        60   \n",
       "12   2910     37  26.65              0.87    179        76   \n",
       "195  2849     36  25.49              0.85    170        87   \n",
       "317  3128     36  25.35              0.77    167        75   \n",
       "391  3371     36  26.61              0.75    142        71   \n",
       "\n",
       "     Shots Per Avg Match  On Target Per Avg Match  Year  \n",
       "5                   5.84                     2.16  2016  \n",
       "12                  5.84                     2.48  2016  \n",
       "195                 5.67                     2.90  2018  \n",
       "317                 5.07                     2.28  2019  \n",
       "391                 4.00                     2.00  2019  "
      ]
     },
     "execution_count": 172,
     "metadata": {},
     "output_type": "execute_result"
    }
   ],
   "source": [
    "df[df['Goals']>=36]"
   ]
  },
  {
   "cell_type": "code",
   "execution_count": 173,
   "metadata": {},
   "outputs": [],
   "source": [
    "# so the players with most numbers of goals are Cristiano Ronaldo , Lionel Messi , Lionel Messi\t, Carlos Vela , Ciro Immobile\t\n",
    "top5players  = df['Goals'].nlargest(5)"
   ]
  },
  {
   "cell_type": "code",
   "execution_count": 174,
   "metadata": {},
   "outputs": [
    {
     "data": {
      "text/plain": [
       "187"
      ]
     },
     "execution_count": 174,
     "metadata": {},
     "output_type": "execute_result"
    }
   ],
   "source": [
    "# sum of the goals of top 5 players\n",
    "df['Goals'].nlargest(5).sum()"
   ]
  },
  {
   "cell_type": "markdown",
   "metadata": {},
   "source": [
    "# Q4: What are the top 10 countries with the most number of players in the dataset?"
   ]
  },
  {
   "cell_type": "code",
   "execution_count": 175,
   "metadata": {},
   "outputs": [
    {
     "data": {
      "text/html": [
       "<div>\n",
       "<style scoped>\n",
       "    .dataframe tbody tr th:only-of-type {\n",
       "        vertical-align: middle;\n",
       "    }\n",
       "\n",
       "    .dataframe tbody tr th {\n",
       "        vertical-align: top;\n",
       "    }\n",
       "\n",
       "    .dataframe thead th {\n",
       "        text-align: right;\n",
       "    }\n",
       "</style>\n",
       "<table border=\"1\" class=\"dataframe\">\n",
       "  <thead>\n",
       "    <tr style=\"text-align: right;\">\n",
       "      <th></th>\n",
       "      <th>Country</th>\n",
       "      <th>League</th>\n",
       "      <th>Club</th>\n",
       "      <th>Player Names</th>\n",
       "      <th>Matches_Played</th>\n",
       "      <th>Substitution</th>\n",
       "      <th>Mins</th>\n",
       "      <th>Goals</th>\n",
       "      <th>xG</th>\n",
       "      <th>xG Per Avg Match</th>\n",
       "      <th>Shots</th>\n",
       "      <th>OnTarget</th>\n",
       "      <th>Shots Per Avg Match</th>\n",
       "      <th>On Target Per Avg Match</th>\n",
       "      <th>Year</th>\n",
       "    </tr>\n",
       "  </thead>\n",
       "  <tbody>\n",
       "    <tr>\n",
       "      <th>0</th>\n",
       "      <td>Spain</td>\n",
       "      <td>La Liga</td>\n",
       "      <td>(BET)</td>\n",
       "      <td>Juanmi Callejon</td>\n",
       "      <td>19</td>\n",
       "      <td>16</td>\n",
       "      <td>1849</td>\n",
       "      <td>11</td>\n",
       "      <td>6.62</td>\n",
       "      <td>0.34</td>\n",
       "      <td>48</td>\n",
       "      <td>20</td>\n",
       "      <td>2.47</td>\n",
       "      <td>1.03</td>\n",
       "      <td>2016</td>\n",
       "    </tr>\n",
       "    <tr>\n",
       "      <th>1</th>\n",
       "      <td>Spain</td>\n",
       "      <td>La Liga</td>\n",
       "      <td>(BAR)</td>\n",
       "      <td>Antoine Griezmann</td>\n",
       "      <td>36</td>\n",
       "      <td>0</td>\n",
       "      <td>3129</td>\n",
       "      <td>16</td>\n",
       "      <td>11.86</td>\n",
       "      <td>0.36</td>\n",
       "      <td>88</td>\n",
       "      <td>41</td>\n",
       "      <td>2.67</td>\n",
       "      <td>1.24</td>\n",
       "      <td>2016</td>\n",
       "    </tr>\n",
       "    <tr>\n",
       "      <th>2</th>\n",
       "      <td>Spain</td>\n",
       "      <td>La Liga</td>\n",
       "      <td>(ATL)</td>\n",
       "      <td>Luis Suarez</td>\n",
       "      <td>34</td>\n",
       "      <td>1</td>\n",
       "      <td>2940</td>\n",
       "      <td>28</td>\n",
       "      <td>23.21</td>\n",
       "      <td>0.75</td>\n",
       "      <td>120</td>\n",
       "      <td>57</td>\n",
       "      <td>3.88</td>\n",
       "      <td>1.84</td>\n",
       "      <td>2016</td>\n",
       "    </tr>\n",
       "    <tr>\n",
       "      <th>3</th>\n",
       "      <td>Spain</td>\n",
       "      <td>La Liga</td>\n",
       "      <td>(CAR)</td>\n",
       "      <td>Ruben Castro</td>\n",
       "      <td>32</td>\n",
       "      <td>3</td>\n",
       "      <td>2842</td>\n",
       "      <td>13</td>\n",
       "      <td>14.06</td>\n",
       "      <td>0.47</td>\n",
       "      <td>117</td>\n",
       "      <td>42</td>\n",
       "      <td>3.91</td>\n",
       "      <td>1.40</td>\n",
       "      <td>2016</td>\n",
       "    </tr>\n",
       "    <tr>\n",
       "      <th>4</th>\n",
       "      <td>Spain</td>\n",
       "      <td>La Liga</td>\n",
       "      <td>(VAL)</td>\n",
       "      <td>Kevin Gameiro</td>\n",
       "      <td>21</td>\n",
       "      <td>10</td>\n",
       "      <td>1745</td>\n",
       "      <td>13</td>\n",
       "      <td>10.65</td>\n",
       "      <td>0.58</td>\n",
       "      <td>50</td>\n",
       "      <td>23</td>\n",
       "      <td>2.72</td>\n",
       "      <td>1.25</td>\n",
       "      <td>2016</td>\n",
       "    </tr>\n",
       "  </tbody>\n",
       "</table>\n",
       "</div>"
      ],
      "text/plain": [
       "  Country   League   Club       Player Names  Matches_Played  Substitution   \\\n",
       "0   Spain  La Liga  (BET)    Juanmi Callejon              19             16   \n",
       "1   Spain  La Liga  (BAR)  Antoine Griezmann              36              0   \n",
       "2   Spain  La Liga  (ATL)        Luis Suarez              34              1   \n",
       "3   Spain  La Liga  (CAR)       Ruben Castro              32              3   \n",
       "4   Spain  La Liga  (VAL)      Kevin Gameiro              21             10   \n",
       "\n",
       "   Mins  Goals     xG  xG Per Avg Match  Shots  OnTarget  Shots Per Avg Match  \\\n",
       "0  1849     11   6.62              0.34     48        20                 2.47   \n",
       "1  3129     16  11.86              0.36     88        41                 2.67   \n",
       "2  2940     28  23.21              0.75    120        57                 3.88   \n",
       "3  2842     13  14.06              0.47    117        42                 3.91   \n",
       "4  1745     13  10.65              0.58     50        23                 2.72   \n",
       "\n",
       "   On Target Per Avg Match  Year  \n",
       "0                     1.03  2016  \n",
       "1                     1.24  2016  \n",
       "2                     1.84  2016  \n",
       "3                     1.40  2016  \n",
       "4                     1.25  2016  "
      ]
     },
     "execution_count": 175,
     "metadata": {},
     "output_type": "execute_result"
    }
   ],
   "source": [
    "df.head()"
   ]
  },
  {
   "cell_type": "code",
   "execution_count": 176,
   "metadata": {},
   "outputs": [],
   "source": [
    "Ls = df.drop([\"Mins\",\"League\" , \"Club\", \"Matches_Played\",\"Goals\", \"xG\" ,\"xG Per Avg Match\",\"Shots\",\"OnTarget\",\"Shots Per Avg Match\",\"On Target Per Avg Match\",\"Year\"], axis = 1)"
   ]
  },
  {
   "cell_type": "code",
   "execution_count": 177,
   "metadata": {},
   "outputs": [
    {
     "data": {
      "text/plain": [
       "array(['Spain', 'Italy', 'Germany', 'England', 'Brazil', 'France', 'USA',\n",
       "       'Portugal ', ' Netherlands'], dtype=object)"
      ]
     },
     "execution_count": 177,
     "metadata": {},
     "output_type": "execute_result"
    }
   ],
   "source": [
    "df['Country'].unique()"
   ]
  },
  {
   "cell_type": "code",
   "execution_count": 178,
   "metadata": {},
   "outputs": [],
   "source": [
    "lst = ['Spain', 'Italy', 'Germany', 'England', 'Brazil', 'France', 'USA',\n",
    "       'Portugal ', ' Netherlands']"
   ]
  },
  {
   "cell_type": "code",
   "execution_count": 182,
   "metadata": {},
   "outputs": [
    {
     "name": "stdout",
     "output_type": "stream",
     "text": [
      "Spain\n",
      "Country           1\n",
      "Player Names     62\n",
      "Substitution     19\n",
      "dtype: int64\n",
      "Italy\n",
      "Country           1\n",
      "Player Names     55\n",
      "Substitution     14\n",
      "dtype: int64\n",
      "Germany\n",
      "Country           1\n",
      "Player Names     62\n",
      "Substitution     15\n",
      "dtype: int64\n",
      "England\n",
      "Country           1\n",
      "Player Names     55\n",
      "Substitution     13\n",
      "dtype: int64\n",
      "Brazil\n",
      "Country           1\n",
      "Player Names     76\n",
      "Substitution     16\n",
      "dtype: int64\n",
      "France\n",
      "Country           1\n",
      "Player Names     47\n",
      "Substitution     12\n",
      "dtype: int64\n",
      "USA\n",
      "Country           1\n",
      "Player Names     34\n",
      "Substitution      9\n",
      "dtype: int64\n"
     ]
    }
   ],
   "source": [
    "print('Spain')\n",
    "print(Ls[Ls['Country']=='Spain'].nunique())\n",
    "print('Italy')\n",
    "print(Ls[Ls['Country']=='Italy'].nunique())\n",
    "print('Germany')\n",
    "print(Ls[Ls['Country']=='Germany'].nunique())\n",
    "print('England')\n",
    "print(Ls[Ls['Country']=='England'].nunique())\n",
    "print('Brazil')\n",
    "print(Ls[Ls['Country']=='Brazil'].nunique())\n",
    "print('France')\n",
    "print(Ls[Ls['Country']=='France'].nunique())\n",
    "print('USA')\n",
    "print(Ls[Ls['Country']=='USA'].nunique())\n",
    "#print(Ls[Ls['Country']=='Portugal'].nunique())\n",
    "#print(Ls[Ls['Country']=='Netherlands'].nunique())\n",
    "\n",
    "# so (spain : 62 , Italy : 55 , Germany : 62 , England : 55 , brazil : 76 , France : 47 , USA : 43 ) brazil ha more players\n"
   ]
  },
  {
   "cell_type": "code",
   "execution_count": 180,
   "metadata": {},
   "outputs": [
    {
     "data": {
      "text/plain": [
       "Country           1\n",
       "Player Names     55\n",
       "Substitution     14\n",
       "dtype: int64"
      ]
     },
     "execution_count": 180,
     "metadata": {},
     "output_type": "execute_result"
    }
   ],
   "source": [
    "Ls[Ls['Country']=='Italy'].nunique()"
   ]
  },
  {
   "cell_type": "markdown",
   "metadata": {},
   "source": [
    "# Q5: # Q1. Create a new dataframe after removing the ourliers for Mins Column in the dataset (conside the upper quantile to be 99 percentile and the lower quantile to be 1 percentile.). After that Find the difference in the number of rows?\n",
    "Difference is df.shape(only rows) - df.shape(rows of filtered data only)"
   ]
  },
  {
   "cell_type": "code",
   "execution_count": null,
   "metadata": {},
   "outputs": [],
   "source": []
  },
  {
   "cell_type": "markdown",
   "metadata": {},
   "source": [
    "# Q6: Which top 5 players have scored the maximum number of goals throughout all the years? Display them in descending order"
   ]
  },
  {
   "cell_type": "code",
   "execution_count": null,
   "metadata": {},
   "outputs": [],
   "source": []
  },
  {
   "cell_type": "markdown",
   "metadata": {},
   "source": [
    "# Q7. Using Bar Plot show in which year has Cristiano Ronaldo scored the most number of goals?"
   ]
  },
  {
   "cell_type": "code",
   "execution_count": null,
   "metadata": {},
   "outputs": [],
   "source": []
  },
  {
   "cell_type": "markdown",
   "metadata": {},
   "source": [
    "# Q8. In the year 2019 who has more Goals between Ronaldo and Messi?\n",
    "### 1.First print them normally\n",
    "### 2.Display the comparison using a bar plot"
   ]
  },
  {
   "cell_type": "code",
   "execution_count": null,
   "metadata": {},
   "outputs": [],
   "source": []
  },
  {
   "cell_type": "markdown",
   "metadata": {},
   "source": [
    "# Q9: Using Pie Chart show the amount of data various Countries are containing in this dataset(use the Country Columns Display the percentage of data as well in the pie chart"
   ]
  },
  {
   "cell_type": "code",
   "execution_count": null,
   "metadata": {},
   "outputs": [],
   "source": []
  },
  {
   "cell_type": "markdown",
   "metadata": {},
   "source": [
    "# Q10: Display a Heatmap to show the correlation between the columns in the dataset. The heatmap should have the value of the correlation printed within the boxes."
   ]
  },
  {
   "cell_type": "code",
   "execution_count": null,
   "metadata": {},
   "outputs": [],
   "source": []
  },
  {
   "cell_type": "markdown",
   "metadata": {},
   "source": [
    "# Q11: Which Country has the maximum median OnTarget Shots among all the Countries in the year 2020?"
   ]
  },
  {
   "cell_type": "code",
   "execution_count": null,
   "metadata": {},
   "outputs": [],
   "source": []
  },
  {
   "cell_type": "markdown",
   "metadata": {},
   "source": [
    "# Q12. Who has the best average Goals per minute?\n",
    "### Consider only those players who have played more than 30 games\n",
    "### Then Find Goals per minute\n",
    "### Find Mean of Goals per minute and sort the values"
   ]
  },
  {
   "cell_type": "code",
   "execution_count": null,
   "metadata": {},
   "outputs": [],
   "source": []
  },
  {
   "cell_type": "markdown",
   "metadata": {},
   "source": [
    "# Q 13. Which Player has the least and most number of missed shots in the dataset?\n",
    "### Missed Shots=Shots-On Target"
   ]
  },
  {
   "cell_type": "code",
   "execution_count": null,
   "metadata": {},
   "outputs": [],
   "source": []
  },
  {
   "cell_type": "markdown",
   "metadata": {},
   "source": [
    "# Q14: How many countries have had players who played more than 35 matches? Create a bar plot to display the count for each country."
   ]
  },
  {
   "cell_type": "code",
   "execution_count": null,
   "metadata": {},
   "outputs": [],
   "source": []
  },
  {
   "cell_type": "markdown",
   "metadata": {},
   "source": [
    "# Q15: Draw a Line Chart to show the comparison of the top 5 highest scoring players in the dataset throughout the years(2016-2020)"
   ]
  }
 ],
 "metadata": {
  "kernelspec": {
   "display_name": "Python 3",
   "language": "python",
   "name": "python3"
  },
  "language_info": {
   "codemirror_mode": {
    "name": "ipython",
    "version": 3
   },
   "file_extension": ".py",
   "mimetype": "text/x-python",
   "name": "python",
   "nbconvert_exporter": "python",
   "pygments_lexer": "ipython3",
   "version": "3.10.0"
  },
  "orig_nbformat": 4
 },
 "nbformat": 4,
 "nbformat_minor": 2
}
